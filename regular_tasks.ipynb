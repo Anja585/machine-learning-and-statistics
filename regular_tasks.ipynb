{
 "cells": [
  {
   "cell_type": "markdown",
   "id": "8a2fe3f7-2927-4549-99a6-2a4029741ce1",
   "metadata": {},
   "source": [
    "# Machine learning and statistics - regular tasks"
   ]
  },
  {
   "cell_type": "markdown",
   "id": "f30d2050-b398-4250-8193-1a64626867d9",
   "metadata": {},
   "source": [
    "## Introduction"
   ]
  },
  {
   "cell_type": "code",
   "execution_count": null,
   "id": "ced1b12e",
   "metadata": {},
   "outputs": [],
   "source": []
  },
  {
   "cell_type": "markdown",
   "id": "0801ecb4",
   "metadata": {},
   "source": [
    "## 01 - statistics   "
   ]
  },
  {
   "cell_type": "markdown",
   "id": "2fcf6b58",
   "metadata": {},
   "source": [
    "### Exercise 1  \n",
    "\n",
    "The above gives about a 1.5% chance of randomly selecting the correct cups. Calculate the minimum number of cups of tea required to ensure the probability of randomly selecting the correct cups is less than or equal to 1%."
   ]
  },
  {
   "cell_type": "code",
   "execution_count": 54,
   "id": "20fa128a",
   "metadata": {},
   "outputs": [],
   "source": [
    "# for plotting\n",
    "import matplotlib.pyplot as plt\n",
    "import numpy as np"
   ]
  },
  {
   "cell_type": "code",
   "execution_count": 5,
   "id": "04e13a22",
   "metadata": {},
   "outputs": [
    {
     "data": {
      "text/plain": [
       "0.014285714285714285"
      ]
     },
     "execution_count": 5,
     "metadata": {},
     "output_type": "execute_result"
    }
   ],
   "source": [
    "# probabilty of selecting four correct by random guess\n",
    "p = 1/70\n",
    "p"
   ]
  },
  {
   "cell_type": "markdown",
   "id": "8135b19e",
   "metadata": {},
   "source": [
    "Probability of selecting four correct cups when given eight cup choices is 14.28%"
   ]
  },
  {
   "cell_type": "code",
   "execution_count": 6,
   "id": "36e4f916",
   "metadata": {},
   "outputs": [
    {
     "data": {
      "text/plain": [
       "100.0"
      ]
     },
     "execution_count": 6,
     "metadata": {},
     "output_type": "execute_result"
    }
   ],
   "source": [
    "# probability of selecting the correct four cups (generates the min number of cups)\n",
    "p = 0.01\n",
    "# number of possible combinations \n",
    "combinations = 1/0.01\n",
    "combinations"
   ]
  },
  {
   "cell_type": "markdown",
   "id": "9a16936b",
   "metadata": {},
   "source": [
    "If probability of selecting four correct cups is 1% or less, 1% would determine min number of cups. \n",
    "\n",
    "If probability is 1%, then number of possible combinations to pick i 100. \n",
    "\n",
    "Combination is defined by the following formula:\n",
    "c = n!/4!(n-4)! where n is number of object to chose from, 4 number of objects selected and c number of possible combinations\n",
    "\n",
    "If we break down the formula we get:\n",
    "c = [(n)(n-1)(n-2)(n-4)!]/[4!(n-4)!]\n",
    "c = [(n)(n-1)(n-2)]/24\n",
    "c = [(n^2-n)(n-2)]/24\n",
    "c = [(n^3-2n^2-n^2+2n)]/24\n",
    "c = [(n^3-3n^2+2n)]/24"
   ]
  },
  {
   "cell_type": "code",
   "execution_count": 49,
   "id": "babbf8b9",
   "metadata": {},
   "outputs": [],
   "source": [
    "n = []\n",
    "c = []\n",
    "\n",
    "for i in range(20):\n",
    "        x = ((i**3)-(3*i**2)+(2*i))/24\n",
    "        c.append(x)\n",
    "\n",
    "for i in range(20):\n",
    "    n.append(i)"
   ]
  },
  {
   "cell_type": "code",
   "execution_count": null,
   "id": "e567459c",
   "metadata": {},
   "outputs": [],
   "source": [
    "We can generate the plotting values using the formula from above. "
   ]
  },
  {
   "cell_type": "code",
   "execution_count": 59,
   "id": "f3fddcfb",
   "metadata": {},
   "outputs": [
    {
     "data": {
      "image/png": "[encoded data removed]",
      "text/plain": [
       "<Figure size 640x480 with 1 Axes>"
      ]
     },
     "metadata": {},
     "output_type": "display_data"
    }
   ],
   "source": [
    "# plot\n",
    "fig, ax = plt.subplots()\n",
    "ax.plot(n, c)\n",
    "plt.grid()\n",
    "ax.set(xlim=(0, 16), xticks=np.arange(1, 16))       \n",
    "plt.show()"
   ]
  },
  {
   "cell_type": "markdown",
   "id": "34d33f4a",
   "metadata": {},
   "source": [
    "As we can see from the plot, the minimun number of cups that would generate 100 possible unique combinations is 15. "
   ]
  },
  {
   "cell_type": "markdown",
   "id": "0e3847f5",
   "metadata": {},
   "source": [
    "## References\n",
    "\n",
    "1. MyBib Contributors (2019). Harvard Referencing Generator – FREE – (updated for 2019). [online] MyBib. Available at: https://www.mybib.com/tools/harvard-referencing-generator.\n",
    "2. GitHub. (n.d.). Markdown Cheatsheet · adam-p/markdown-here Wiki. [online] Available at: https://github.com/adam-p/markdown-here/wiki/Markdown-Cheatsheet#lists [Accessed 29 Oct. 2022].\n",
    "3. www.tutorialspoint.com. (n.d.). Statistics - Combination. [online] Available at: https://www.tutorialspoint.com/statistics/combination.htm# [Accessed 29 Oct. 2022].\n",
    "4. matplotlib.org. (n.d.). plot(x, y) — Matplotlib 3.6.0 documentation. [online] Available at: https://matplotlib.org/stable/plot_types/basic/plot.html#sphx-glr-plot-types-basic-plot-py [Accessed 29 Oct. 2022].\n",
    "\n",
    "\n"
   ]
  },
  {
   "cell_type": "code",
   "execution_count": null,
   "id": "daf6c8fb-a6ca-433e-ad01-7b2ab0977449",
   "metadata": {},
   "outputs": [],
   "source": []
  },
  {
   "cell_type": "markdown",
   "id": "389cd989",
   "metadata": {},
   "source": []
  }
 ],
 "metadata": {
  "kernelspec": {
   "display_name": "Python 3 (ipykernel)",
   "language": "python",
   "name": "python3"
  },
  "language_info": {
   "codemirror_mode": {
    "name": "ipython",
    "version": 3
   },
   "file_extension": ".py",
   "mimetype": "text/x-python",
   "name": "python",
   "nbconvert_exporter": "python",
   "pygments_lexer": "ipython3",
   "version": "3.9.13"
  }
 },
 "nbformat": 4,
 "nbformat_minor": 5
}
