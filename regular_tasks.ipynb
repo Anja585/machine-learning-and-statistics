{
 "cells": [
  {
   "cell_type": "markdown",
   "id": "8a2fe3f7-2927-4549-99a6-2a4029741ce1",
   "metadata": {},
   "source": [
    "Machine learning and statistics - regular tasks"
   ]
  },
  {
   "cell_type": "markdown",
   "id": "f30d2050-b398-4250-8193-1a64626867d9",
   "metadata": {},
   "source": [
    "Introduction"
   ]
  },
  {
   "cell_type": "code",
   "execution_count": null,
   "id": "daf6c8fb-a6ca-433e-ad01-7b2ab0977449",
   "metadata": {},
   "outputs": [],
   "source": []
  },
  {
   "cell_type": "code",
   "execution_count": null,
   "id": "b037d2a3-479b-48c7-9c9a-83ba58a2be0d",
   "metadata": {},
   "outputs": [],
   "source": []
  }
 ],
 "metadata": {
  "kernelspec": {
   "display_name": "Python 3 (ipykernel)",
   "language": "python",
   "name": "python3"
  },
  "language_info": {
   "codemirror_mode": {
    "name": "ipython",
    "version": 3
   },
   "file_extension": ".py",
   "mimetype": "text/x-python",
   "name": "python",
   "nbconvert_exporter": "python",
   "pygments_lexer": "ipython3",
   "version": "3.9.13"
  }
 },
 "nbformat": 4,
 "nbformat_minor": 5
}
